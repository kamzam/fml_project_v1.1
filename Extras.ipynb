{
 "cells": [
  {
   "cell_type": "code",
   "execution_count": null,
   "metadata": {},
   "outputs": [],
   "source": [
    "import matplotlib.pyplot as plt\n",
    "import numpy as np\n",
    "import string\n",
    "\n",
    "# points a, b and, c\n",
    "#a, b, c, d, e  = (0, 1, 0), (1, 2, 1), (0, 3, 2), (-1, 4, 3), (-1, 0.5, 4)\n",
    "a, b, c, d, e,f,g = (points1[hull1.vertices[0],0] -cx, points1[hull1.vertices[0],1] -cy,0),(points1[hull1.vertices[1],0]-cx, points1[hull1.vertices[1],1] -cy,1),(points1[hull1.vertices[2],0]-cx, points1[hull1.vertices[2],1] -cy,2),(points1[hull1.vertices[3],0]-cx, points1[hull1.vertices[3],1] -cy,3),(points1[hull1.vertices[4],0] -cx, points1[hull1.vertices[4],1] -cy,4),(points1[hull1.vertices[5],0]-cx, points1[hull1.vertices[5],1] -cy,5),(points1[hull1.vertices[6],0]-cx, points1[hull1.vertices[6],1] -cy,6)\n",
    "#a, b, c, d, e = (0, 1, 0), (1, 0, 1), (0, -1, 2), (-1, 0, 3), (-1, 0.5, 4)\n",
    "\n",
    "# matrix with row vectors of points\n",
    "A = np.array([a, b, c, d, e])\n",
    "\n",
    "# 3x3 Identity transformation matrix\n",
    "I = np.eye(3)\n",
    "color_lut = 'rgbcy'\n",
    "fig = plt.figure()\n",
    "ax = plt.gca()\n",
    "xs = []\n",
    "ys = []\n",
    "for row in A:\n",
    "    #print(row)\n",
    "    output_row = I @ row\n",
    "    x, y, i = output_row\n",
    "    xs.append(x)\n",
    "    ys.append(y)\n",
    "    i = int(i) # convert float to int for indexing\n",
    "   # print(i)\n",
    "    c = color_lut[i]\n",
    "    plt.scatter(x, y, color=c)\n",
    "    plt.text(x + 0.15, y, f\"{string.ascii_letters[i]}\")\n",
    "xs.append(xs[0])\n",
    "ys.append(ys[0])\n",
    "plt.plot(xs, ys, color=\"gray\", linestyle='dotted')\n",
    "ax.set_xticks(np.arange(-2, 9, 1))\n",
    "ax.set_yticks(np.arange(-2, 6, 1))\n",
    "plt.grid()\n",
    "plt.show()"
   ]
  },
  {
   "cell_type": "code",
   "execution_count": null,
   "metadata": {},
   "outputs": [],
   "source": [
    "# create the scaling transformation matrix\n",
    "T_s = np.array([[2, 0, 0], [0, 2, 0], [0, 0, 1]])\n",
    "\n",
    "fig = plt.figure()\n",
    "ax = plt.gca()\n",
    "xs_s = []\n",
    "ys_s = []\n",
    "for row in A:\n",
    "    output_row = T_s @ row\n",
    "    x, y, i = row\n",
    "    x_s, y_s, i_s = output_row\n",
    "    xs_s.append(x_s)\n",
    "    ys_s.append(y_s)\n",
    "    i, i_s = int(i), int(i_s) # convert float to int for indexing\n",
    "    c, c_s = color_lut[i], color_lut[i_s] # these are the same but, its good to be explicit\n",
    "    plt.scatter(x, y, color=c)\n",
    "    plt.scatter(x_s, y_s, color=c_s)\n",
    "    plt.text(x + 0.15, y, f\"{string.ascii_letters[int(i)]}\")\n",
    "    plt.text(x_s + 0.15, y_s, f\"{string.ascii_letters[int(i_s)]}'\")\n",
    "\n",
    "xs_s.append(xs_s[0])\n",
    "ys_s.append(ys_s[0])\n",
    "print(xs_s+cx)\n",
    "print(ys_s+cy)\n",
    "plt.plot(xs , ys, color=\"gray\", linestyle='dotted')\n",
    "plt.plot(xs_s, ys_s, color=\"gray\", linestyle='dotted')\n",
    "ax.set_xticks(np.arange(2, 9, 1))\n",
    "ax.set_yticks(np.arange(2, 5, 1))\n",
    "plt.grid()\n",
    "plt.show()"
   ]
  },
  {
   "cell_type": "code",
   "execution_count": null,
   "metadata": {},
   "outputs": [],
   "source": [
    "#Helper sample only\n",
    "circle1 = plt.Circle((5.0, 5.0), 0.5, color='r')\n",
    "circle2 = plt.Circle((4.25, 4.25), 0.75, color='b')\n",
    "fig, ax = plt.subplots()\n",
    "\n",
    "\n",
    "plt.xlim(min_x-1,max_x+1)\n",
    "plt.ylim(min_y-1,max_x+1)\n",
    "\n",
    "plt.grid(linestyle='--')\n",
    "\n",
    "ax.set_aspect(1)\n",
    "\n",
    "ax.add_artist(circle1)\n",
    "ax.add_artist(circle2)\n",
    "#plt.title('How to plot a circle with matplotlib ?', fontsize=8)\n",
    "\n",
    "#plt.savefig(\"plot_circle_matplotlib_02.png\", bbox_inches='tight')\n",
    "\n",
    "plt.show()"
   ]
  },
  {
   "cell_type": "code",
   "execution_count": null,
   "metadata": {},
   "outputs": [],
   "source": [
    "import matplotlib.colors as mcolors\n",
    "for c in mcolors.BASE_COLORS:\n",
    "    print(c)"
   ]
  }
 ],
 "metadata": {
  "kernelspec": {
   "display_name": "Python 3",
   "language": "python",
   "name": "python3"
  },
  "language_info": {
   "codemirror_mode": {
    "name": "ipython",
    "version": 3
   },
   "file_extension": ".py",
   "mimetype": "text/x-python",
   "name": "python",
   "nbconvert_exporter": "python",
   "pygments_lexer": "ipython3",
   "version": "3.8.3"
  }
 },
 "nbformat": 4,
 "nbformat_minor": 4
}
